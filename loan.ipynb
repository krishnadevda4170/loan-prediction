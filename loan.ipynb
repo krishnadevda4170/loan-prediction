{
 "cells": [
  {
   "cell_type": "code",
   "execution_count": 1,
   "metadata": {},
   "outputs": [
    {
     "name": "stdout",
     "output_type": "stream",
     "text": [
      "Accuracy: 0.8293\n",
      "Confusion Matrix: \n",
      "[[25 13]\n",
      " [ 8 77]]\n",
      "Classification Report: \n",
      "              precision    recall  f1-score   support\n",
      "\n",
      "           0       0.76      0.66      0.70        38\n",
      "           1       0.86      0.91      0.88        85\n",
      "\n",
      "    accuracy                           0.83       123\n",
      "   macro avg       0.81      0.78      0.79       123\n",
      "weighted avg       0.83      0.83      0.83       123\n",
      "\n"
     ]
    }
   ],
   "source": [
    "import pandas as pd\n",
    "import numpy as np\n",
    "from sklearn.model_selection import train_test_split\n",
    "from sklearn.preprocessing import StandardScaler\n",
    "from imblearn.over_sampling import SMOTE\n",
    "from sklearn.linear_model import LogisticRegression\n",
    "from sklearn.ensemble import RandomForestClassifier\n",
    "from sklearn.metrics import accuracy_score, confusion_matrix, classification_report\n",
    "\n",
    "# Load dataset\n",
    "data = pd.read_csv(r'C:\\Users\\krishna devda\\OneDrive\\Desktop\\Loan_prediction_model\\loan_prediction (1).csv')\n",
    "\n",
    "# Drop unnecessary columns\n",
    "data.drop(['Loan_ID', 'Dependents'], axis=1, inplace=True)\n",
    "\n",
    "# Handling missing values\n",
    "data.fillna({\n",
    "    'Gender': data['Gender'].mode()[0],\n",
    "    'Married': data['Married'].mode()[0],\n",
    "    'Self_Employed': data['Self_Employed'].mode()[0],\n",
    "    'LoanAmount': data['LoanAmount'].median(),\n",
    "    'Loan_Amount_Term': data['Loan_Amount_Term'].mode()[0],\n",
    "    'Credit_History': data['Credit_History'].mode()[0]\n",
    "}, inplace=True)\n",
    "\n",
    "# Encoding categorical variables\n",
    "data['Gender'] = data['Gender'].map({'Male': 1, 'Female': 0})\n",
    "data['Married'] = data['Married'].map({'Yes': 1, 'No': 0})\n",
    "data['Education'] = data['Education'].map({'Graduate': 1, 'Not Graduate': 0})\n",
    "data['Self_Employed'] = data['Self_Employed'].map({'Yes': 1, 'No': 0})\n",
    "data['Credit_History'] = data['Credit_History'].astype(int)\n",
    "data = pd.get_dummies(data, columns=['Property_Area'])\n",
    "\n",
    "# Feature Engineering\n",
    "data['TotalIncome'] = data['ApplicantIncome'] + data['CoapplicantIncome']\n",
    "data['LoanAmountLog'] = np.log1p(data['LoanAmount'])  # Log transformation\n",
    "\n",
    "# Selecting features\n",
    "X = data[['Gender', 'Married', 'Education', 'TotalIncome', 'LoanAmountLog', \n",
    "          'Loan_Amount_Term', 'Credit_History', 'Property_Area_Rural', \n",
    "          'Property_Area_Semiurban', 'Property_Area_Urban']]\n",
    "\n",
    "y = data['Loan_Status'].map({'Y': 1, 'N': 0})\n",
    "\n",
    "# Splitting data\n",
    "X_train, X_test, y_train, y_test = train_test_split(X, y, test_size=0.2, random_state=42, stratify=y)\n",
    "\n",
    "# Handling Imbalanced Data\n",
    "smote = SMOTE(random_state=42)\n",
    "X_train, y_train = smote.fit_resample(X_train, y_train)\n",
    "\n",
    "# Standardization\n",
    "scaler = StandardScaler()\n",
    "X_train = scaler.fit_transform(X_train)\n",
    "X_test = scaler.transform(X_test)\n",
    "\n",
    "# Model Training (Random Forest)\n",
    "model = RandomForestClassifier(n_estimators=200, random_state=42, max_depth=10)\n",
    "model.fit(X_train, y_train)\n",
    "\n",
    "# Predictions\n",
    "y_pred = model.predict(X_test)\n",
    "\n",
    "# Evaluation\n",
    "accuracy = accuracy_score(y_test, y_pred)\n",
    "conf_matrix = confusion_matrix(y_test, y_pred)\n",
    "class_report = classification_report(y_test, y_pred)\n",
    "\n",
    "print(f\"Accuracy: {accuracy:.4f}\")\n",
    "print(f\"Confusion Matrix: \\n{conf_matrix}\")\n",
    "print(f\"Classification Report: \\n{class_report}\")\n"
   ]
  },
  {
   "cell_type": "code",
   "execution_count": 2,
   "metadata": {},
   "outputs": [],
   "source": [
    "import pickle\n",
    "pickle.dump(model, open('loan_prediction.pkl', 'wb'))\n"
   ]
  }
 ],
 "metadata": {
  "kernelspec": {
   "display_name": "Python 3",
   "language": "python",
   "name": "python3"
  },
  "language_info": {
   "codemirror_mode": {
    "name": "ipython",
    "version": 3
   },
   "file_extension": ".py",
   "mimetype": "text/x-python",
   "name": "python",
   "nbconvert_exporter": "python",
   "pygments_lexer": "ipython3",
   "version": "3.7.7"
  }
 },
 "nbformat": 4,
 "nbformat_minor": 2
}
